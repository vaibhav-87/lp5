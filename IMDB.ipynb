{
 "cells": [
  {
   "cell_type": "code",
   "execution_count": 2,
   "id": "ba1fd97b-9792-4ecd-86d2-975d22a42bc5",
   "metadata": {},
   "outputs": [],
   "source": [
    "import numpy as np\n",
    "import matplotlib.pyplot as plt\n",
    "import seaborn as sns\n",
    "from keras.datasets import imdb\n",
    "from keras import models, layers, optimizers, losses, Input\n",
    "from sklearn.metrics import classification_report, confusion_matrix, accuracy_score"
   ]
  },
  {
   "cell_type": "code",
   "execution_count": 3,
   "id": "9f61a565-53de-46fc-84d1-b5a701fe82b4",
   "metadata": {},
   "outputs": [
    {
     "name": "stdout",
     "output_type": "stream",
     "text": [
      "Downloading data from https://storage.googleapis.com/tensorflow/tf-keras-datasets/imdb.npz\n",
      "17464789/17464789 [==============================] - 8s 0us/step\n"
     ]
    }
   ],
   "source": [
    "(train_data, train_labels), (test_data, test_labels) = imdb.load_data(num_words=10000)"
   ]
  },
  {
   "cell_type": "code",
   "execution_count": 4,
   "id": "29a2ffac-8040-4130-8cca-17da1b8f10c5",
   "metadata": {},
   "outputs": [
    {
     "name": "stdout",
     "output_type": "stream",
     "text": [
      "Downloading data from https://storage.googleapis.com/tensorflow/tf-keras-datasets/imdb_word_index.json\n",
      "1641221/1641221 [==============================] - 0s 0us/step\n",
      "\n",
      "Sample Decoded Review:\n",
      " ? this film was just brilliant casting location scenery story direction everyone's really suited the part they played and you could just imagine being there robert ? is an amazing actor and now the same being director ? father came from the same scottish island as myself so i loved the fact there was a real connection with this film the witty remarks throughout the film were great it was just brilliant so much that i bought the film as soon as it was released for ? and would recommend it to everyone to watch and the fly fishing was amazing really cried at the end it was so sad and you know what they say if you cry at a film it must have been good and this definitely was also ? to the two little boy's that played the ? of norman and paul they were just brilliant children are often left out of the ? list i think because the stars that play them all grown up are such a big profile for the whole film but these children are amazing and should be praised for what they have done don't you think the whole story was so lovely because it was true and was someone's life after all that was shared with us all\n"
     ]
    }
   ],
   "source": [
    "word_index = imdb.get_word_index()\n",
    "reverse_word_index = {value: key for (key, value) in word_index.items()}\n",
    "decoded_review = ' '.join([reverse_word_index.get(i - 3, '?') for i in train_data[0]])\n",
    "print(\"\\nSample Decoded Review:\\n\", decoded_review)"
   ]
  },
  {
   "cell_type": "code",
   "execution_count": 5,
   "id": "6a4cd2b0-1e0a-4e5c-b7d7-0c806ba2070c",
   "metadata": {},
   "outputs": [],
   "source": [
    "def vectorize_sequences(sequences, dimension=10000):\n",
    "    results = np.zeros((len(sequences), dimension))\n",
    "    for i, sequence in enumerate(sequences):\n",
    "        results[i, sequence] = 1\n",
    "    return results"
   ]
  },
  {
   "cell_type": "code",
   "execution_count": 6,
   "id": "8876825e-7791-4fcb-b417-7a5fca34ff16",
   "metadata": {},
   "outputs": [],
   "source": [
    "X_train = vectorize_sequences(train_data)\n",
    "X_test = vectorize_sequences(test_data)\n",
    "y_train = np.asarray(train_labels).astype('float32')\n",
    "y_test = np.asarray(test_labels).astype('float32')"
   ]
  },
  {
   "cell_type": "code",
   "execution_count": 7,
   "id": "0f165411-c30f-460e-8ad4-9e281faecef2",
   "metadata": {},
   "outputs": [],
   "source": [
    "X_val = X_train[:10000]\n",
    "partial_X_train = X_train[10000:]\n",
    "y_val = y_train[:10000]\n",
    "partial_y_train = y_train[10000:]"
   ]
  },
  {
   "cell_type": "code",
   "execution_count": 8,
   "id": "b803d8fa-e41d-49db-bbe0-5168a82495c8",
   "metadata": {},
   "outputs": [
    {
     "name": "stdout",
     "output_type": "stream",
     "text": [
      "Model: \"sequential\"\n",
      "_________________________________________________________________\n",
      " Layer (type)                Output Shape              Param #   \n",
      "=================================================================\n",
      " dense (Dense)               (None, 16)                160016    \n",
      "                                                                 \n",
      " dense_1 (Dense)             (None, 16)                272       \n",
      "                                                                 \n",
      " dense_2 (Dense)             (None, 8)                 136       \n",
      "                                                                 \n",
      " dense_3 (Dense)             (None, 4)                 36        \n",
      "                                                                 \n",
      " dense_4 (Dense)             (None, 1)                 5         \n",
      "                                                                 \n",
      "=================================================================\n",
      "Total params: 160465 (626.82 KB)\n",
      "Trainable params: 160465 (626.82 KB)\n",
      "Non-trainable params: 0 (0.00 Byte)\n",
      "_________________________________________________________________\n"
     ]
    }
   ],
   "source": [
    "model = models.Sequential([\n",
    "    Input(shape=(10000,)),\n",
    "    layers.Dense(16, activation='relu'),\n",
    "    layers.Dense(16, activation='relu'),\n",
    "    layers.Dense(8, activation='relu'),\n",
    "    layers.Dense(4, activation='relu'),\n",
    "    layers.Dense(1, activation='sigmoid')\n",
    "])\n",
    "\n",
    "model.summary()"
   ]
  },
  {
   "cell_type": "code",
   "execution_count": 9,
   "id": "4670da6b-6bb9-4b7d-96df-e661aef87885",
   "metadata": {},
   "outputs": [],
   "source": [
    "model.compile(optimizer=optimizers.Adam(learning_rate=0.001),\n",
    "              loss=losses.binary_crossentropy,\n",
    "              metrics=['accuracy'])"
   ]
  },
  {
   "cell_type": "code",
   "execution_count": 10,
   "id": "2cb23fec-7209-484c-84e2-04bdea4a04be",
   "metadata": {},
   "outputs": [
    {
     "name": "stdout",
     "output_type": "stream",
     "text": [
      "Epoch 1/25\n",
      "30/30 [==============================] - 6s 48ms/step - loss: 0.6263 - accuracy: 0.6337\n",
      "Epoch 2/25\n",
      "30/30 [==============================] - 1s 23ms/step - loss: 0.4885 - accuracy: 0.8385\n",
      "Epoch 3/25\n",
      "30/30 [==============================] - 0s 16ms/step - loss: 0.4236 - accuracy: 0.9104\n",
      "Epoch 4/25\n",
      "30/30 [==============================] - 1s 28ms/step - loss: 0.3841 - accuracy: 0.9407\n",
      "Epoch 5/25\n",
      "30/30 [==============================] - 1s 23ms/step - loss: 0.3573 - accuracy: 0.9552\n",
      "Epoch 6/25\n",
      "30/30 [==============================] - 1s 18ms/step - loss: 0.3363 - accuracy: 0.9663\n",
      "Epoch 7/25\n",
      "30/30 [==============================] - 1s 19ms/step - loss: 0.3202 - accuracy: 0.9743\n",
      "Epoch 8/25\n",
      "30/30 [==============================] - 0s 16ms/step - loss: 0.3065 - accuracy: 0.9793\n",
      "Epoch 9/25\n",
      "30/30 [==============================] - 1s 21ms/step - loss: 0.2961 - accuracy: 0.9837\n",
      "Epoch 10/25\n",
      "30/30 [==============================] - 0s 12ms/step - loss: 0.2875 - accuracy: 0.9849\n",
      "Epoch 11/25\n",
      "30/30 [==============================] - 1s 18ms/step - loss: 0.2801 - accuracy: 0.9852\n",
      "Epoch 12/25\n",
      "30/30 [==============================] - 1s 19ms/step - loss: 0.2732 - accuracy: 0.9859\n",
      "Epoch 13/25\n",
      "30/30 [==============================] - 1s 19ms/step - loss: 0.2670 - accuracy: 0.9859\n",
      "Epoch 14/25\n",
      "30/30 [==============================] - 0s 16ms/step - loss: 0.2609 - accuracy: 0.9861\n",
      "Epoch 15/25\n",
      "30/30 [==============================] - 0s 11ms/step - loss: 0.2553 - accuracy: 0.9865\n",
      "Epoch 16/25\n",
      "30/30 [==============================] - 0s 10ms/step - loss: 0.2498 - accuracy: 0.9865\n",
      "Epoch 17/25\n",
      "30/30 [==============================] - 0s 12ms/step - loss: 0.2445 - accuracy: 0.9867\n",
      "Epoch 18/25\n",
      "30/30 [==============================] - 0s 13ms/step - loss: 0.2395 - accuracy: 0.9867\n",
      "Epoch 19/25\n",
      "30/30 [==============================] - 1s 17ms/step - loss: 0.2347 - accuracy: 0.9867\n",
      "Epoch 20/25\n",
      "30/30 [==============================] - 0s 14ms/step - loss: 0.2301 - accuracy: 0.9868\n",
      "Epoch 21/25\n",
      "30/30 [==============================] - 1s 25ms/step - loss: 0.2255 - accuracy: 0.9868\n",
      "Epoch 22/25\n",
      "30/30 [==============================] - 1s 18ms/step - loss: 0.2213 - accuracy: 0.9867\n",
      "Epoch 23/25\n",
      "30/30 [==============================] - 0s 17ms/step - loss: 0.2171 - accuracy: 0.9868\n",
      "Epoch 24/25\n",
      "30/30 [==============================] - 0s 15ms/step - loss: 0.2130 - accuracy: 0.9869\n",
      "Epoch 25/25\n",
      "30/30 [==============================] - 1s 18ms/step - loss: 0.2091 - accuracy: 0.9867\n"
     ]
    }
   ],
   "source": [
    "history = model.fit(partial_X_train, partial_y_train,\n",
    "                    epochs=25,\n",
    "                    batch_size=500)"
   ]
  },
  {
   "cell_type": "code",
   "execution_count": 11,
   "id": "6d69648b-81cf-46c7-87ae-35505b4cbac1",
   "metadata": {},
   "outputs": [
    {
     "name": "stdout",
     "output_type": "stream",
     "text": [
      "782/782 [==============================] - 2s 2ms/step\n"
     ]
    }
   ],
   "source": [
    "pred_probs = model.predict(X_test)\n",
    "y_pred = (pred_probs > 0.5).astype(\"int32\").flatten()"
   ]
  },
  {
   "cell_type": "code",
   "execution_count": 12,
   "id": "0b1ab11a-41e9-4503-8d30-a6f749ef8320",
   "metadata": {},
   "outputs": [
    {
     "name": "stdout",
     "output_type": "stream",
     "text": [
      "Accuracy: 0.85624\n",
      "\n",
      "Classification Report:\n",
      "               precision    recall  f1-score   support\n",
      "\n",
      "         0.0       0.85      0.86      0.86     12500\n",
      "         1.0       0.86      0.85      0.86     12500\n",
      "\n",
      "    accuracy                           0.86     25000\n",
      "   macro avg       0.86      0.86      0.86     25000\n",
      "weighted avg       0.86      0.86      0.86     25000\n",
      "\n"
     ]
    }
   ],
   "source": [
    "print(\"Accuracy:\", accuracy_score(y_test, y_pred))\n",
    "print(\"\\nClassification Report:\\n\", classification_report(y_test, y_pred))"
   ]
  },
  {
   "cell_type": "code",
   "execution_count": 13,
   "id": "9162f30a-2cc9-48fb-8215-bc5f117930c7",
   "metadata": {},
   "outputs": [
    {
     "data": {
      "image/png": "[encoded data removed]",
      "text/plain": [
       "<Figure size 600x500 with 2 Axes>"
      ]
     },
     "metadata": {},
     "output_type": "display_data"
    }
   ],
   "source": [
    "cm = confusion_matrix(y_test, y_pred)\n",
    "plt.figure(figsize=(6,5))\n",
    "sns.heatmap(cm, annot=True, fmt='d', cmap='Blues', xticklabels=['Negative', 'Positive'], yticklabels=['Negative', 'Positive'])\n",
    "plt.xlabel(\"Predicted\")\n",
    "plt.ylabel(\"True\")\n",
    "plt.title(\"Confusion Matrix\")\n",
    "plt.show()"
   ]
  },
  {
   "cell_type": "code",
   "execution_count": null,
   "id": "4ab5b5df-9788-40a2-b419-1519e4c53410",
   "metadata": {},
   "outputs": [],
   "source": []
  }
 ],
 "metadata": {
  "kernelspec": {
   "display_name": "Python 3",
   "language": "python",
   "name": "python3"
  },
  "language_info": {
   "codemirror_mode": {
    "name": "ipython",
    "version": 3
   },
   "file_extension": ".py",
   "mimetype": "text/x-python",
   "name": "python",
   "nbconvert_exporter": "python",
   "pygments_lexer": "ipython3",
   "version": "3.11.7"
  }
 },
 "nbformat": 4,
 "nbformat_minor": 5
}
